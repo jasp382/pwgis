{
 "cells": [
  {
   "cell_type": "code",
   "execution_count": null,
   "metadata": {},
   "outputs": [],
   "source": [
    "\"\"\"\n",
    "Create SLD for Feature Class Layers\n",
    "\n",
    "Note: works only for lines and polygons\n",
    "\"\"\"\n",
    "\n",
    "from pycode.geosrv.sld import write_sld\n",
    "\n",
    "attr_name = 'CODE2012'\n",
    "\n",
    "attr_colors = [\n",
    "    {'cat' : '11100', 'RED' : 128, 'GREEN' : 0, \"BLUE\": 0, 'opacity': 1},\n",
    "    {'cat' : '11210', 'RED' : 191, 'GREEN' : 0, \"BLUE\": 0, 'opacity': 1},\n",
    "    {'cat' : '11220', 'RED' : 255, 'GREEN' : 64, \"BLUE\": 64, 'opacity': 1},\n",
    "    {'cat' : '11230', 'RED' : 255, 'GREEN' : 128, \"BLUE\": 128, 'opacity': 1},\n",
    "    {'cat' : '11240', 'RED' : 255, 'GREEN' : 191, \"BLUE\": 191, 'opacity': 1},\n",
    "    {'cat' : '11300', 'RED' : 204, 'GREEN' : 102, \"BLUE\": 102, 'opacity': 1},\n",
    "    {'cat' : '12100', 'RED' : 204, 'GREEN' : 77, \"BLUE\": 242, 'opacity': 1},\n",
    "    {'cat' : '12210', 'RED' : 149, 'GREEN' : 149, \"BLUE\": 149, 'opacity': 1},\n",
    "    {'cat' : '12220', 'RED' : 179, 'GREEN' : 179, \"BLUE\": 179, 'opacity': 1},\n",
    "    {'cat' : '12230', 'RED' : 89, 'GREEN' : 89, \"BLUE\": 89, 'opacity': 1},\n",
    "    {'cat' : '12400', 'RED' : 230, 'GREEN' : 204, \"BLUE\": 230, 'opacity': 1},\n",
    "    {'cat' : '13100', 'RED' : 115, 'GREEN' : 77, \"BLUE\": 55, 'opacity': 1},\n",
    "    {'cat' : '13300', 'RED' : 185, 'GREEN' : 165, \"BLUE\": 110, 'opacity': 1},\n",
    "    {'cat' : '13400', 'RED' : 135, 'GREEN' : 69, \"BLUE\": 69, 'opacity': 1},\n",
    "    {'cat' : '14100', 'RED' : 140, 'GREEN' : 220, \"BLUE\": 0, 'opacity': 1},\n",
    "    {'cat' : '14200', 'RED' : 175, 'GREEN' : 210, \"BLUE\": 165, 'opacity': 1},\n",
    "    {'cat' : '21000', 'RED' : 255, 'GREEN' : 255, \"BLUE\": 168, 'opacity': 1},\n",
    "    {'cat' : '22000', 'RED' : 242, 'GREEN' : 166, \"BLUE\": 77, 'opacity': 1},\n",
    "    {'cat' : '23000', 'RED' : 230, 'GREEN' : 230, \"BLUE\": 77, 'opacity': 1},\n",
    "    {'cat' : '24000', 'RED' : 255, 'GREEN' : 230, \"BLUE\": 77, 'opacity': 1},\n",
    "    {'cat' : '31000', 'RED' : 0, 'GREEN' : 140, \"BLUE\": 0, 'opacity': 1},\n",
    "    {'cat' : '32000', 'RED' : 204, 'GREEN' : 242, \"BLUE\": 77, 'opacity': 1},\n",
    "    {'cat' : '33000', 'RED' : 204, 'GREEN' : 255, \"BLUE\": 204, 'opacity': 1},\n",
    "    {'cat' : '40000', 'RED' : 166, 'GREEN' : 166, \"BLUE\": 255, 'opacity': 1},\n",
    "    {'cat' : '50000', 'RED' : 128, 'GREEN' : 242, \"BLUE\": 230, 'opacity': 1},\n",
    "]\n",
    "\n",
    "mapattrkeys = {\n",
    "    'r' : 'RED', 'g' : 'GREEN', 'b' : 'BLUE',\n",
    "    'category' : 'cat', 'opacity' : 'opacity'\n",
    "}\n",
    "\n",
    "outsld = '/home/useriam/pwgis/ua_style.sld'\n",
    "\n",
    "geom = 'Polygon'\n",
    "\n",
    "data = 'CATEGORICAL'\n",
    "\n",
    "write_sld(attr_name, attr_colors, mapattrkeys, outsld, geometry=geom, DATA=data)"
   ]
  },
  {
   "cell_type": "code",
   "execution_count": 1,
   "metadata": {},
   "outputs": [
    {
     "data": {
      "text/plain": [
       "'/home/useriam/pwgis/dem_sld.sld'"
      ]
     },
     "execution_count": 1,
     "metadata": {},
     "output_type": "execute_result"
    }
   ],
   "source": [
    "\"\"\"\n",
    "Create SLD for Raster Layers\n",
    "\"\"\"\n",
    "\n",
    "from pycode.geosrv.sld import write_raster_sld\n",
    "\n",
    "SYMBOLOGY_RULES = {\n",
    "    20 : {\"COLOR\" :(175, 240, 233), \"LABEL\" : \"0 - 20\", \"OPACITY\" : 0.95},\n",
    "    50 : {\"COLOR\" :(210, 232, 137), \"LABEL\" : \"20 - 50\", \"OPACITY\" : 0.95},\n",
    "    100 : {\"COLOR\" :(100, 148, 52), \"LABEL\" : \"50 - 100\", \"OPACITY\" : 0.95},\n",
    "    200 : {\"COLOR\" :(189, 70, 2), \"LABEL\" : \"100 - 200\", \"OPACITY\" : 0.95},\n",
    "    300 : {\"COLOR\" :(110, 37, 9), \"LABEL\" : \"200 - 300\", \"OPACITY\" : 0.95},\n",
    "    400 : {\"COLOR\" :(163, 147, 137), \"LABEL\" : \"300 - 400\", \"OPACITY\" : 0.95},\n",
    "    530 : {\"COLOR\" :(255, 252, 255), \"LABEL\" : \"400 - 530\", \"OPACITY\" : 0.95}\n",
    "}\n",
    "\n",
    "DATA_TYPE = \"FLOATING\"\n",
    "\n",
    "OUT_FILE = '/home/useriam/pwgis/dem_sld.sld'\n",
    "\n",
    "write_raster_sld(SYMBOLOGY_RULES, OUT_FILE, dataType=DATA_TYPE)"
   ]
  },
  {
   "cell_type": "code",
   "execution_count": null,
   "metadata": {},
   "outputs": [],
   "source": []
  }
 ],
 "metadata": {
  "kernelspec": {
   "display_name": "Python 3",
   "language": "python",
   "name": "python3"
  },
  "language_info": {
   "codemirror_mode": {
    "name": "ipython",
    "version": 3
   },
   "file_extension": ".py",
   "mimetype": "text/x-python",
   "name": "python",
   "nbconvert_exporter": "python",
   "pygments_lexer": "ipython3",
   "version": "3.6.9"
  }
 },
 "nbformat": 4,
 "nbformat_minor": 4
}
