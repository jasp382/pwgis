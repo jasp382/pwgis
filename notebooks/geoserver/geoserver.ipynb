{
 "cells": [
  {
   "cell_type": "code",
   "execution_count": null,
   "metadata": {},
   "outputs": [],
   "source": [
    "\"\"\"\n",
    "List Workspaces in GeoServer\n",
    "\"\"\"\n",
    "\n",
    "from pycode.geosrv.ws import lst_ws\n",
    "\n",
    "workspaces = lst_ws()\n",
    "\n",
    "print(workspaces)"
   ]
  },
  {
   "cell_type": "code",
   "execution_count": null,
   "metadata": {},
   "outputs": [],
   "source": [
    "\"\"\"\n",
    "Create new GeoServer Workspace\n",
    "\"\"\"\n",
    "\n",
    "from pycode.geosrv.ws import create_ws\n",
    "\n",
    "create_ws('aulatst', overwrite=None)"
   ]
  },
  {
   "cell_type": "code",
   "execution_count": null,
   "metadata": {},
   "outputs": [],
   "source": [
    "\"\"\"\n",
    "Delete existing GeoServer Workspace\n",
    "\"\"\"\n",
    "\n",
    "from pycode.geosrv.ws import del_ws\n",
    "\n",
    "del_ws('aulatst')"
   ]
  },
  {
   "cell_type": "code",
   "execution_count": null,
   "metadata": {},
   "outputs": [],
   "source": [
    "\"\"\"\n",
    "List Stores in GeoServer\n",
    "\"\"\"\n",
    "\n",
    "from pycode.geosrv.stores import lst_stores\n",
    "\n",
    "stores = lst_stores('aulatst')\n",
    "\n",
    "print(stores)"
   ]
  },
  {
   "cell_type": "code",
   "execution_count": null,
   "metadata": {},
   "outputs": [],
   "source": [
    "\"\"\"\n",
    "ESRI Shapefile to Store/Layer\n",
    "\"\"\"\n",
    "\n",
    "from pycode.geosrv.stores import shp_to_store\n",
    "\n",
    "in_shp = '/home/useriam/pwgis/geodata/geoserver/osm_roads.shp'\n",
    "store_name = 'tst_store'\n",
    "workspace  = 'aulatst'\n",
    "\n",
    "r = shp_to_store(in_shp, store_name, workspace)"
   ]
  },
  {
   "cell_type": "code",
   "execution_count": null,
   "metadata": {},
   "outputs": [],
   "source": [
    "\"\"\"\n",
    "Add Raster Store\n",
    "\"\"\"\n",
    "\n",
    "from pycode.geosrv.stores import add_rst_store\n",
    "\n",
    "raster = '/home/geoserveruser/dem_coimbra.tif'\n",
    "\n",
    "name = 'dem_coimbra2'\n",
    "\n",
    "workspace = 'aulatst'\n",
    "\n",
    "add_rst_store(raster, name, workspace)"
   ]
  },
  {
   "cell_type": "code",
   "execution_count": null,
   "metadata": {},
   "outputs": [],
   "source": [
    "\"\"\"\n",
    "Delete GeoServer Store\n",
    "\"\"\"\n",
    "\n",
    "from pycode.geosrv.stores import del_store\n",
    "\n",
    "del_store('aulatst', 'dem_coimbra2')"
   ]
  },
  {
   "cell_type": "code",
   "execution_count": null,
   "metadata": {},
   "outputs": [],
   "source": [
    "\"\"\"\n",
    "List Layers in GeoServer\n",
    "\"\"\"\n",
    "\n",
    "from pycode.geosrv.lyrs import lst_lyr\n",
    "\n",
    "lyrs = lst_lyr()\n",
    "\n",
    "print(lyrs)"
   ]
  },
  {
   "cell_type": "code",
   "execution_count": null,
   "metadata": {},
   "outputs": [],
   "source": [
    "\"\"\"\n",
    "Add raster layer from raster store\n",
    "\"\"\"\n",
    "\n",
    "from pycode.geosrv.lyrs import pub_rst_lyr\n",
    "\n",
    "layer = 'dem_coimbra'\n",
    "store = 'dem_coimbra2'\n",
    "workspace = 'aulatst'\n",
    "epsg = 3763\n",
    "\n",
    "pub_rst_lyr(layer, store, workspace, epsg)"
   ]
  },
  {
   "cell_type": "code",
   "execution_count": null,
   "metadata": {},
   "outputs": [],
   "source": [
    "\"\"\"\n",
    "Delete Layer\n",
    "\"\"\"\n",
    "\n",
    "from pycode.geosrv.lyrs import del_lyr\n",
    "\n",
    "layer = 'dem_coimbra'\n",
    "\n",
    "del_lyr(layer)"
   ]
  },
  {
   "cell_type": "code",
   "execution_count": null,
   "metadata": {},
   "outputs": [],
   "source": [
    "\"\"\"\n",
    "List Styles\n",
    "\"\"\"\n",
    "\n",
    "from pycode.geosrv.sty import lst_styles\n",
    "\n",
    "lst = lst_styles()\n",
    "\n",
    "print(lst)"
   ]
  },
  {
   "cell_type": "code",
   "execution_count": 1,
   "metadata": {},
   "outputs": [
    {
     "data": {
      "text/plain": [
       "<Response [200]>"
      ]
     },
     "execution_count": 1,
     "metadata": {},
     "output_type": "execute_result"
    }
   ],
   "source": [
    "\"\"\"\n",
    "Add new style\n",
    "\"\"\"\n",
    "\n",
    "from pycode.geosrv.sty import create_style\n",
    "\n",
    "name = 'dem_style'\n",
    "sld_path = '/home/useriam/pwgis/dem_sld.sld'\n",
    "\n",
    "create_style(name, sld_path)"
   ]
  },
  {
   "cell_type": "code",
   "execution_count": null,
   "metadata": {},
   "outputs": [],
   "source": [
    "\"\"\"\n",
    "Delete existing style\n",
    "\"\"\"\n",
    "\n",
    "from pycode.geosrv.sty import del_style\n",
    "\n",
    "style_name = 'ua_style'\n",
    "\n",
    "del_style(style_name)"
   ]
  },
  {
   "cell_type": "code",
   "execution_count": null,
   "metadata": {},
   "outputs": [],
   "source": [
    "\"\"\"\n",
    "Set layer style\n",
    "\"\"\"\n",
    "\n",
    "from pycode.geosrv.sty import assign_style_to_layer\n",
    "\n",
    "style = 'dem_style'\n",
    "lyrname = 'aulatst:dem_coimbra2'\n",
    "\n",
    "assign_style_to_layer(style, lyrname)"
   ]
  },
  {
   "cell_type": "code",
   "execution_count": null,
   "metadata": {},
   "outputs": [],
   "source": []
  }
 ],
 "metadata": {
  "kernelspec": {
   "display_name": "Python 3",
   "language": "python",
   "name": "python3"
  },
  "language_info": {
   "codemirror_mode": {
    "name": "ipython",
    "version": 3
   },
   "file_extension": ".py",
   "mimetype": "text/x-python",
   "name": "python",
   "nbconvert_exporter": "python",
   "pygments_lexer": "ipython3",
   "version": "3.6.9"
  }
 },
 "nbformat": 4,
 "nbformat_minor": 4
}
