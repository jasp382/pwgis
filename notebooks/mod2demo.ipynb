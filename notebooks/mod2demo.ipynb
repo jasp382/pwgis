{
 "cells": [
  {
   "cell_type": "code",
   "execution_count": null,
   "id": "contrary-junior",
   "metadata": {},
   "outputs": [],
   "source": [
    "\"\"\"\n",
    "GRASS GIS example\n",
    "\"\"\"\n",
    "\n",
    "\n",
    "obspoints = '/home/useriam/pwgis/geodata/mod2demo/obspoints.shp'\n",
    "mdtraster = '/home/useriam/pwgis/geodata/mod2demo/mdt.tif'\n",
    "outvis    = '/home/useriam/pwgis/geodata/mod2demo/visibility.tif'"
   ]
  },
  {
   "cell_type": "code",
   "execution_count": null,
   "id": "exceptional-hepatitis",
   "metadata": {},
   "outputs": [],
   "source": [
    "import geopandas as gp\n",
    "import os\n",
    "from pycode.wenv import run_grass"
   ]
  },
  {
   "cell_type": "code",
   "execution_count": null,
   "id": "serious-discrimination",
   "metadata": {},
   "outputs": [],
   "source": [
    "# Create GRASS GIS Location\n",
    "workspace = os.path.dirname(outvis)\n",
    "location  = 'loc_' + os.path.splitext(os.path.basename(outvis))[0]\n",
    "\n",
    "gbase = run_grass(workspace, location=location, srs=mdtraster)\n",
    "\n",
    "# Start GRASS GIS Session\n",
    "\n",
    "import grass.script.setup as gsetup\n",
    "gsetup.init(gbase, workspace, location, 'PERMANENT')"
   ]
  },
  {
   "cell_type": "code",
   "execution_count": null,
   "id": "norman-regression",
   "metadata": {},
   "outputs": [],
   "source": [
    "from pycode.grstools import rst_to_grs\n",
    "from pycode.grstools import grs_viewshed\n",
    "from pycode.grstools import rstcalc\n",
    "from pycode.grstools import grs_to_rst"
   ]
  },
  {
   "cell_type": "code",
   "execution_count": null,
   "id": "arctic-genome",
   "metadata": {},
   "outputs": [],
   "source": [
    "# Add DEM to GRASS GIS workspace\n",
    "\n",
    "grsdem = rst_to_grs(mdtraster, 'dem')\n",
    "\n",
    "# Read Observation Points Shape\n",
    "points = gp.read_file(obspoints)"
   ]
  },
  {
   "cell_type": "code",
   "execution_count": null,
   "id": "wired-thompson",
   "metadata": {},
   "outputs": [],
   "source": [
    "points"
   ]
  },
  {
   "cell_type": "code",
   "execution_count": null,
   "id": "revised-attempt",
   "metadata": {},
   "outputs": [],
   "source": [
    "visibilities = []\n",
    "for idx, row in points.iterrows():\n",
    "    # Produce viewshed raster\n",
    "    vrst = grs_viewshed(\n",
    "        grsdem, (row.geometry.x, row.geometry.y),\n",
    "        f\"visrst_{str(idx)}\",\n",
    "        max_dist=10000\n",
    "    )\n",
    "    visibilities.append(vrst)"
   ]
  },
  {
   "cell_type": "code",
   "execution_count": null,
   "id": "dramatic-township",
   "metadata": {},
   "outputs": [],
   "source": [
    "# Sum all visibility rasters\n",
    "fraster = rstcalc(\" + \".join(visibilities), 'joinvis')"
   ]
  },
  {
   "cell_type": "code",
   "execution_count": null,
   "id": "boxed-tennis",
   "metadata": {},
   "outputs": [],
   "source": [
    "# Export result\n",
    "grs_to_rst(fraster, outvis)"
   ]
  },
  {
   "cell_type": "code",
   "execution_count": null,
   "id": "perceived-liberty",
   "metadata": {},
   "outputs": [],
   "source": [
    "# Export all temp files\n",
    "\n",
    "for r in visibilities:\n",
    "    grs_to_rst(r, os.path.join(workspace, r + '.tif'))"
   ]
  },
  {
   "cell_type": "code",
   "execution_count": null,
   "id": "fleet-institute",
   "metadata": {},
   "outputs": [],
   "source": []
  }
 ],
 "metadata": {
  "kernelspec": {
   "display_name": "Python 3",
   "language": "python",
   "name": "python3"
  },
  "language_info": {
   "codemirror_mode": {
    "name": "ipython",
    "version": 3
   },
   "file_extension": ".py",
   "mimetype": "text/x-python",
   "name": "python",
   "nbconvert_exporter": "python",
   "pygments_lexer": "ipython3",
   "version": "3.6.9"
  }
 },
 "nbformat": 4,
 "nbformat_minor": 5
}
